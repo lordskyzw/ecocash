{
 "cells": [
  {
   "cell_type": "code",
   "execution_count": 1,
   "id": "3c9f40c8",
   "metadata": {},
   "outputs": [
    {
     "name": "stdout",
     "output_type": "stream",
     "text": [
      "Requirement already satisfied: ecocash in /Users/lordskyzw/ecocash/venv/lib/python3.12/site-packages (0.0.3)\n",
      "Collecting ecocash\n",
      "  Downloading ecocash-0.0.4-py3-none-any.whl.metadata (1.2 kB)\n",
      "Downloading ecocash-0.0.4-py3-none-any.whl (3.5 kB)\n",
      "Installing collected packages: ecocash\n",
      "  Attempting uninstall: ecocash\n",
      "    Found existing installation: ecocash 0.0.3\n",
      "    Uninstalling ecocash-0.0.3:\n",
      "      Successfully uninstalled ecocash-0.0.3\n",
      "Successfully installed ecocash-0.0.4\n",
      "\n",
      "\u001b[1m[\u001b[0m\u001b[34;49mnotice\u001b[0m\u001b[1;39;49m]\u001b[0m\u001b[39;49m A new release of pip is available: \u001b[0m\u001b[31;49m24.0\u001b[0m\u001b[39;49m -> \u001b[0m\u001b[32;49m25.2\u001b[0m\n",
      "\u001b[1m[\u001b[0m\u001b[34;49mnotice\u001b[0m\u001b[1;39;49m]\u001b[0m\u001b[39;49m To update, run: \u001b[0m\u001b[32;49mpip install --upgrade pip\u001b[0m\n",
      "Note: you may need to restart the kernel to use updated packages.\n"
     ]
    }
   ],
   "source": [
    "%pip install --upgrade ecocash"
   ]
  },
  {
   "cell_type": "markdown",
   "id": "e5a8763c",
   "metadata": {},
   "source": [
    "## initiating a payment"
   ]
  },
  {
   "cell_type": "code",
   "execution_count": 3,
   "id": "f69637ca",
   "metadata": {},
   "outputs": [
    {
     "name": "stderr",
     "output_type": "stream",
     "text": [
      "2025-09-02 01:33:03,463 - INFO - Ecocash client initialized in sandbox mode.\n",
      "2025-09-02 01:33:03,467 - INFO - Generated sourceReference: b90ac094-9f5e-4f67-897c-1f36dda1c5dd\n",
      "2025-09-02 01:33:03,473 - INFO - POST Request: https://developers.ecocash.co.zw/api/ecocash_pay/api/v2/payment/instant/c2b/sandbox with payload {'customerMsisdn': '263772800163', 'amount': 10.5, 'reason': 'Payment test', 'currency': 'USD', 'sourceReference': 'b90ac094-9f5e-4f67-897c-1f36dda1c5dd'}\n",
      "2025-09-02 01:33:04,114 - WARNING - Empty or non-JSON response: \n",
      "2025-09-02 01:33:04,116 - INFO - Response: {'status_code': 200, 'response_text': ''}\n"
     ]
    },
    {
     "data": {
      "text/plain": [
       "{'status_code': 200, 'response_text': ''}"
      ]
     },
     "execution_count": 3,
     "metadata": {},
     "output_type": "execute_result"
    }
   ],
   "source": [
    "from ecocash import EcoCash\n",
    "\n",
    "\n",
    "ec = EcoCash(\n",
    "    app_id=\"1965\",\n",
    "    api_key=\"vRGAOcvUu2RML5cePheWdoHFXg3RjhNv\",\n",
    "    merchant_code=\"08658\",\n",
    "    app_name=\"testing\"\n",
    ")\n",
    "\n",
    "res = ec.payment(\n",
    "    customer_msisdn=\"263772800163\",\n",
    "    amount=10.5,\n",
    "    reason=\"Payment test\"\n",
    ")\n",
    "\n",
    "res"
   ]
  },
  {
   "cell_type": "markdown",
   "id": "42bd3e92",
   "metadata": {},
   "source": [
    "## checking payment status"
   ]
  },
  {
   "cell_type": "code",
   "execution_count": 4,
   "id": "3c3fc7a4",
   "metadata": {},
   "outputs": [
    {
     "name": "stderr",
     "output_type": "stream",
     "text": [
      "2025-09-02 01:34:11,522 - INFO - POST Request: https://developers.ecocash.co.zw/api/ecocash_pay/api/v1/transaction/c2b/status/sandbox with payload {'sourceMobileNumber': '263772800163', 'sourceReference': 'b90ac094-9f5e-4f67-897c-1f36dda1c5dd'}\n",
      "2025-09-02 01:34:11,887 - INFO - Response: {'amount': {'amount': 10.5, 'currency': 'USD'}, 'customerMsisdn': '263772800163', 'reference': 'b90ac094-9f5e-4f67-897c-1f36dda1c5dd', 'ecocashReference': 'b90ac094-9f5e-4f67-897c-1f36dda1c5dd', 'status': 'PENDING_VALIDATION', 'transactionDateTime': '2025-09-02 01:33:04'}\n"
     ]
    },
    {
     "data": {
      "text/plain": [
       "{'amount': {'amount': 10.5, 'currency': 'USD'},\n",
       " 'customerMsisdn': '263772800163',\n",
       " 'reference': 'b90ac094-9f5e-4f67-897c-1f36dda1c5dd',\n",
       " 'ecocashReference': 'b90ac094-9f5e-4f67-897c-1f36dda1c5dd',\n",
       " 'status': 'PENDING_VALIDATION',\n",
       " 'transactionDateTime': '2025-09-02 01:33:04'}"
      ]
     },
     "execution_count": 4,
     "metadata": {},
     "output_type": "execute_result"
    }
   ],
   "source": [
    "res = ec.transaction_status(\n",
    "    source_mobile=\"263772800163\",\n",
    "    source_reference=\"b90ac094-9f5e-4f67-897c-1f36dda1c5dd\"\n",
    ")\n",
    "\n",
    "res"
   ]
  }
 ],
 "metadata": {
  "kernelspec": {
   "display_name": "venv",
   "language": "python",
   "name": "python3"
  },
  "language_info": {
   "codemirror_mode": {
    "name": "ipython",
    "version": 3
   },
   "file_extension": ".py",
   "mimetype": "text/x-python",
   "name": "python",
   "nbconvert_exporter": "python",
   "pygments_lexer": "ipython3",
   "version": "3.12.4"
  }
 },
 "nbformat": 4,
 "nbformat_minor": 5
}
